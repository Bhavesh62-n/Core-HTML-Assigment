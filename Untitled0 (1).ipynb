{
  "nbformat": 4,
  "nbformat_minor": 0,
  "metadata": {
    "colab": {
      "provenance": []
    },
    "kernelspec": {
      "name": "python3",
      "display_name": "Python 3"
    },
    "language_info": {
      "name": "python"
    }
  },
  "cells": [
    {
      "cell_type": "markdown",
      "source": [],
      "metadata": {
        "id": "LFdRtOzfnFIf"
      }
    },
    {
      "cell_type": "markdown",
      "source": [
        "1. Formatting text Using HTML"
      ],
      "metadata": {
        "id": "6AYgRPV0nHTx"
      }
    },
    {
      "cell_type": "code",
      "source": [
        "<!DOCTYPE html>\n",
        "<html lang=\"en\">\n",
        "<head>\n",
        "    <meta charset=\"UTF-8\">\n",
        "    <meta name=\"viewport\" content=\"width=device-width, initial-scale=1.0\">\n",
        "\n",
        "</head>\n",
        "<body>\n",
        "    <p><b>This text will be bolded.</b></p>\n",
        "    <p><i>This text will be italic.</i></p>\n",
        "    <p><u>This text will be underlined</u></p>\n",
        "    <p><mark>This text will be highlighted</p>\n",
        "    <p>This is normal text <sup>This will be super scripted</sup> This is normal again</p>\n",
        "    <p>This is normal text <sub>This text will be subscripted</sub></p>\n",
        "    <p>Normal Text<small> Smal </small> Text</p>\n",
        "    <p><del>This text will be deleted</del></p>\n",
        "</body>\n",
        "</html>"
      ],
      "metadata": {
        "id": "d-QtsvBCnefQ"
      },
      "execution_count": null,
      "outputs": []
    },
    {
      "cell_type": "markdown",
      "source": [
        "2. Hyperlinks for Navigation"
      ],
      "metadata": {
        "id": "T5kDpSaWnjeq"
      }
    },
    {
      "cell_type": "code",
      "source": [
        "<!DOCTYPE html>\n",
        "<html lang=\"en\">\n",
        "<head>\n",
        "    <meta charset=\"UTF-8\">\n",
        "    <meta name=\"viewport\" content=\"width=device-width, initial-scale=1.0\">\n",
        "\n",
        "</head>\n",
        "<body>\n",
        "    <h1>Navigate Me:</h1>\n",
        "    <p>Take me to <a href=\"https://pwskills.com\" target=\"_blank\">PW Skills</a> to buy a course.</p>\n",
        "    <p>Take me to <a href=\"https://developer.mozilla.org/en-US/\" target=\"_blank\">MDN docs</a> to know more about Web Development.</p>\n",
        "    <p>Take me to <a href=\"https://lab.pwskills.com\" target=\"_blank\">PW Skills Lab</a> to practice live coding.</p>\n",
        "</body>\n",
        "</html>\n"
      ],
      "metadata": {
        "id": "eN8eSQXzqk7x"
      },
      "execution_count": null,
      "outputs": []
    },
    {
      "cell_type": "markdown",
      "source": [
        "3. Building a Simple Blog Web Page with Navigation"
      ],
      "metadata": {
        "id": "3FodgcoQuWGW"
      }
    },
    {
      "cell_type": "markdown",
      "source": [
        " home.html\n",
        ""
      ],
      "metadata": {
        "id": "JYfnmKqou34R"
      }
    },
    {
      "cell_type": "code",
      "source": [
        "<!DOCTYPE html>\n",
        "<html lang=\"en\">\n",
        "<head>\n",
        "    <meta charset=\"UTF-8\">\n",
        "    <meta name=\"viewport\" content=\"width=device-width, initial-scale=1.0\">\n",
        "\n",
        "</head>\n",
        "<body>\n",
        "\n",
        "        <a href=\"home.html\">Home</a> |\n",
        "        <a href=\"web-development.html\">Web Development</a> |\n",
        "        <a href=\"web-design.html\">Web Design</a>\n",
        "\n",
        "\n",
        "    <h1>Welcome to My Blog</h1>\n",
        "    <p>This blog provides information about web development and web design. You can navigate to different sections to learn more.</p>\n",
        "</body>\n",
        "</html>"
      ],
      "metadata": {
        "id": "kkEq8jqFu87p"
      },
      "execution_count": null,
      "outputs": []
    },
    {
      "cell_type": "markdown",
      "source": [
        "web-design.html"
      ],
      "metadata": {
        "id": "6UOV0GXlvAa3"
      }
    },
    {
      "cell_type": "code",
      "source": [
        "<!DOCTYPE html>\n",
        "<html lang=\"en\">\n",
        "<head>\n",
        "    <meta charset=\"UTF-8\">\n",
        "    <meta name=\"viewport\" content=\"width=device-width, initial-scale=1.0\">\n",
        "\n",
        "</head>\n",
        "<body>\n",
        "\n",
        "        <a href=\"home.html\">Home</a> |\n",
        "        <a href=\"web-development.html\">Web Development</a> |\n",
        "        <a href=\"web-design.html\">Web Design</a>\n",
        "\n",
        "\n",
        "    <h1>Web Design</h1>\n",
        "    <p>Web design focuses on the aesthetics and usability of websites. It involves layout, color schemes, typography, and responsive design.</p>\n",
        "</body>\n",
        "</html>"
      ],
      "metadata": {
        "id": "PiNooLhWvEHV"
      },
      "execution_count": null,
      "outputs": []
    },
    {
      "cell_type": "markdown",
      "source": [
        "web-development.html"
      ],
      "metadata": {
        "id": "pKReITSavGrb"
      }
    },
    {
      "cell_type": "code",
      "source": [
        "<!DOCTYPE html>\n",
        "<html lang=\"en\">\n",
        "<head>\n",
        "    <meta charset=\"UTF-8\">\n",
        "    <meta name=\"viewport\" content=\"width=device-width, initial-scale=1.0\">\n",
        "\n",
        "</head>\n",
        "<body>\n",
        "\n",
        "        <a href=\"home.html\">Home</a> |\n",
        "        <a href=\"web-development.html\">Web Development</a> |\n",
        "        <a href=\"web-design.html\">Web Design</a>\n",
        "\n",
        "\n",
        "    <h1>Web Development</h1>\n",
        "    <p>Web development is the process of building and maintaining websites. It includes front-end, back-end, and full-stack development.</p>\n",
        "</body>\n",
        "</html>\n"
      ],
      "metadata": {
        "id": "GHGTekiVvLoK"
      },
      "execution_count": null,
      "outputs": []
    },
    {
      "cell_type": "markdown",
      "source": [
        "4. Creating an Ordered List of HTML Tags\n"
      ],
      "metadata": {
        "id": "i1JOkpyBwENh"
      }
    },
    {
      "cell_type": "code",
      "source": [
        "<!DOCTYPE html>\n",
        "<html lang=\"en\">\n",
        "<head>\n",
        "    <meta charset=\"UTF-8\">\n",
        "    <meta name=\"viewport\" content=\"width=device-width, initial-scale=1.0\">\n",
        "\n",
        "</head>\n",
        "<body>\n",
        "    <h1>Ordered List of HTML Tags</h1>\n",
        "\n",
        "    <ol>\n",
        "        <li><b>&lt;h1&gt; - Heading Tag:</b> Used to define the most important heading on a webpage.</li>\n",
        "        <li><b>&lt;p&gt; - Paragraph Tag:</b> Defines a paragraph of text.</li>\n",
        "        <li><b>&lt;a&gt; - Anchor Tag:</b> Creates hyperlinks to navigate between web pages.</li>\n",
        "        <li><b>&lt;img&gt; - Image Tag:</b> Embeds images into a webpage.</li>\n",
        "        <li><b>&lt;ul&gt; - Unordered List:</b> Creates a bulleted list.</li>\n",
        "        <li><b>&lt;ol&gt; - Ordered List:</b> Creates a numbered list.</li>\n",
        "        <li><b>&lt;li&gt; - List Item:</b> Represents an item in a list.</li>\n",
        "        <li><b>&lt;table&gt; - Table:</b> Defines a table to display structured data.</li>\n",
        "        <li><b>&lt;tr&gt; - Table Row:</b> Represents a row inside a table.</li>\n",
        "        <li><b>&lt;td&gt; - Table Data:</b> Represents a cell inside a table row.</li>\n",
        "        <li><b>&lt;div&gt; - Division:</b> Used as a container for HTML elements to apply styling and layouts.</li>\n",
        "        <li><b>&lt;span&gt; - Span:</b> Used to apply styles to a specific part of text.</li>\n",
        "        <li><b>&lt;input&gt; - Input Field:</b> Accepts user input in forms (text, passwords, checkboxes, etc.).</li>\n",
        "        <li><b>&lt;button&gt; - Button:</b> Creates clickable buttons for user interaction.</li>\n",
        "        <li><b>&lt;form&gt; - Form:</b> Defines an HTML form for collecting user input.</li>\n",
        "    </ol>\n",
        "</body>\n",
        "</html>"
      ],
      "metadata": {
        "id": "5fIsIUfuxn0a"
      },
      "execution_count": null,
      "outputs": []
    },
    {
      "cell_type": "markdown",
      "source": [
        "5. Creating a Description List of Full Stack Web Development Tech Stacks"
      ],
      "metadata": {
        "id": "q4Ute_FOx0kV"
      }
    },
    {
      "cell_type": "code",
      "source": [
        "<!DOCTYPE html>\n",
        "<html lang=\"en\">\n",
        "<head>\n",
        "    <meta charset=\"UTF-8\">\n",
        "    <meta name=\"viewport\" content=\"width=device-width, initial-scale=1.0\">\n",
        "\n",
        "</head>\n",
        "<body>\n",
        "    <h1>Full Stack Web Development Tech Stacks</h1>\n",
        "\n",
        "    <dl>\n",
        "        <dt><b>HTML (HyperText Markup Language)</b></dt>\n",
        "        <dd>- The standard language used to create the structure of web pages.</dd>\n",
        "\n",
        "        <dt><b>CSS (Cascading Style Sheets)</b></dt>\n",
        "        <dd>- Used to style and layout web pages, including colors, fonts, and responsive design.</dd>\n",
        "\n",
        "        <dt><b>JavaScript</b></dt>\n",
        "        <dd>- A programming language that enables interactive web elements such as buttons, animations, and dynamic content.</dd>\n",
        "\n",
        "        <dt><b>Node.js</b></dt>\n",
        "        <dd>- A runtime environment that allows JavaScript to be used for backend development.</dd>\n",
        "\n",
        "        <dt><b>Express.js</b></dt>\n",
        "        <dd>- A lightweight framework for building web applications and APIs using Node.js.</dd>\n",
        "\n",
        "        <dt><b>MongoDB</b></dt>\n",
        "        <dd>- A NoSQL database that stores data in a flexible, JSON-like format.</dd>\n",
        "\n",
        "        <dt><b>MySQL</b></dt>\n",
        "        <dd>- A relational database management system used for structured data storage.</dd>\n",
        "\n",
        "        <dt><b>React.js</b></dt>\n",
        "        <dd>- A JavaScript library used to build interactive and dynamic user interfaces.</dd>\n",
        "\n",
        "        <dt><b>Angular</b></dt>\n",
        "        <dd>- A front-end framework developed by Google for building scalable web applications.</dd>\n",
        "\n",
        "        <dt><b>Bootstrap</b></dt>\n",
        "        <dd>- A CSS framework used to create responsive and mobile-first web designs.</dd>\n",
        "\n",
        "        <dt><b>Git</b></dt>\n",
        "        <dd>- A version control system that helps track changes in code and collaborate with others.</dd>\n",
        "\n",
        "        <dt><b>Docker</b></dt>\n",
        "        <dd>- A platform for developing, shipping, and running applications in isolated environments (containers).</dd>\n",
        "    </dl>\n",
        "</body>\n",
        "</html>\n"
      ],
      "metadata": {
        "id": "UWNN8ZXSyJ_x"
      },
      "execution_count": null,
      "outputs": []
    },
    {
      "cell_type": "markdown",
      "source": [
        "6. Creating an Ordered List with a Table for Full Stack Web Development Tech Stack"
      ],
      "metadata": {
        "id": "60kM1M4WzJqL"
      }
    },
    {
      "cell_type": "code",
      "source": [
        "<!DOCTYPE html><html>\n",
        "<head>\n",
        "\n",
        "\n",
        "</head>\n",
        "<body>\n",
        "\n",
        "    <dl>\n",
        "    <dt><h1>1. HTML</h1></dt>\n",
        "   <dd> <table border=\"1\">\n",
        "        <tr>\n",
        "            <th>Primary Use Cases</th>\n",
        "            <th>Key Features/Benefits</th>\n",
        "        </tr>\n",
        "        <tr>\n",
        "            <td>Building the structure of web pages</td>\n",
        "            <td>\n",
        "                <ul type=\"circle\">\n",
        "                    <li>Simple and easy to learn</li>\n",
        "                    <li>Compatible with all web browsers</li>\n",
        "                    <li>Allows for semantic markup</li>\n",
        "                </ul>\n",
        "            </td>\n",
        "        </tr>\n",
        "    </dd>\n",
        "\n",
        "    </table>\n",
        "    <dt><h1>2. CSS</h1></dt>\n",
        "    <dd>\n",
        "<table border=\"1\">\n",
        "    <tr>\n",
        "        <th>Primary Use Cases</th>\n",
        "        <th>Key Features/Benefits</th>\n",
        "    </tr>\n",
        "    <tr>\n",
        "        <td>Styling and layout of web pages</td>\n",
        "        <td>\n",
        "            <ul type=\"circle\">\n",
        "                <li>Allows for separation of content and presentation</li>\n",
        "                <li>Enables responsive design</li>\n",
        "                <li>Offers a wide range of styling options</li>\n",
        "            </ul>\n",
        "        </td>\n",
        "    </tr>\n",
        "</table>\n",
        "</dd>\n",
        "\n",
        "\n",
        "<dt><h1>3. JavaScript</h1></dt>\n",
        "<dd>\n",
        "<table border=\"1\">\n",
        "    <tr>\n",
        "        <th>Primary Use Cases</th>\n",
        "        <th>Key Features/Benefits</th>\n",
        "    </tr>\n",
        "    <tr>\n",
        "        <td>Adding interactivity to web pages</td>\n",
        "        <td>\n",
        "            <ul type=\"circle\">\n",
        "                <li>Client-side and server-side scripting</li>\n",
        "                <li>Supports dynamic content updates</li>\n",
        "                <li>Works with APIs for extended functionality</li>\n",
        "            </ul>\n",
        "        </td>\n",
        "    </tr>\n",
        "</table>\n",
        "</dd>\n",
        "</dl>\n",
        "</body>\n",
        "</html>"
      ],
      "metadata": {
        "id": "reVIANsPFK3T"
      },
      "execution_count": null,
      "outputs": []
    },
    {
      "cell_type": "markdown",
      "source": [
        "7. Build a complex nested list structure representing a multi-level table of contents."
      ],
      "metadata": {
        "id": "wgjWEYSASHk5"
      }
    },
    {
      "cell_type": "code",
      "source": [
        "<!DOCTYPE html><html>\n",
        "<head>\n",
        "\n",
        "\n",
        "</head>\n",
        "<body >\n",
        "    <div style=\"border: 2px solid black; width: 325px;\">\n",
        "        <h1>Table of Contents</h1>\n",
        "        <ul type=\"dics\">\n",
        "            <li><a href=\"#intro\" style=\" color: blue;\">Part 1: Introduction</a></li>\n",
        "            <li><a href=\"#getting-started\" style=\" color: blue;\">Part 2: Getting Started</a>\n",
        "                <ul type=\"circle\">\n",
        "                    <li><a href=\"#install\" style=\"color: blue;\">2.1 Installing the Software</a></li>\n",
        "                    <li><a href=\"#new-project\" style=\" color: blue;\">2.2 Creating a New Project</a>\n",
        "                        <ul type=\"square\">\n",
        "                            <li><a href=\"#templates\" style=\"color: blue;\">2.2.1 Project Templates</a></li>\n",
        "                            <li><a href=\"#settings\" style=\"color: blue;\">2.2.2 Customizing Settings</a></li>\n",
        "                        </ul>\n",
        "                    </li>\n",
        "                    <li><a href=\"#interface\" style=\"color: blue;\">2.3 Exploring the Interface</a>\n",
        "                        <ul type=\"square\">\n",
        "                            <li><a href=\"#toolbar\" style=\" color: blue;\">2.3.1 Toolbar Features</a></li>\n",
        "                            <li><a href=\"#panel-layout\" style=\"color: blue;\">2.3.2 Panel Layout</a>\n",
        "                                <ul  type=\"square\">\n",
        "                                    <li><a href=\"#docking\" style=\" color: blue;\">2.3.2.1 Docking Panels</a></li>\n",
        "                                    <li><a href=\"#tabbed\" style=\" color: blue;\">2.3.2.2 Tabbed Interface</a></li>\n",
        "                                </ul>\n",
        "                            </li>\n",
        "                        </ul>\n",
        "                    </li>\n",
        "                </ul>\n",
        "            </li>\n",
        "            <li><a href=\"#advanced\" style=\" color: blue;\">Part 3: Advanced Topics</a>\n",
        "                <ul type=\"circle\">\n",
        "                    <li><a href=\"#plugins\" style=\" color: blue;\">3.1 Working with Plugins</a>\n",
        "                        <ul type=\"square\">\n",
        "                            <li><a href=\"#install-plugins\" style=\"color: blue;\">3.1.1 Installing Plugins</a></li>\n",
        "                            <li><a href=\"#config-plugins\" style=\"color: blue;\">3.1.2 Plugin Configuration</a></li>\n",
        "                        </ul>\n",
        "                    </li>\n",
        "                    <li><a href=\"#ui\" style=\"color: blue;\">3.2 Customizing the UI</a>\n",
        "                        <ul type=\"square\">\n",
        "                            <li><a href=\"#themes\" style=\" color: blue;\">3.2.1 Changing Themes</a></li>\n",
        "                            <li><a href=\"#shortcuts\" style=\" color: blue;\">3.2.2 Configuring Shortcuts</a></li>\n",
        "                        </ul>\n",
        "                    </li>\n",
        "                    <li><a href=\"#performance\" style=\" color: blue;\">3.3 Optimizing Performance</a>\n",
        "                        <ul type=\"square\" >\n",
        "                            <li><a href=\"#caching\" style=\" color: blue;\">3.3.1 Caching Strategies</a></li>\n",
        "                            <li><a href=\"#minification\" style=\" color: blue;\">3.3.2 Resource Minification</a></li>\n",
        "                        </ul>\n",
        "                    </li>\n",
        "                </ul>\n",
        "            </li>\n",
        "            <li><a href=\"#conclusion\" style=\" color: blue;\">Part 4: Conclusion</a></li>\n",
        "        </ul>\n",
        "    </div>\n",
        "</body>\n",
        "</html>"
      ],
      "metadata": {
        "id": "ZikmKKAJSbEo"
      },
      "execution_count": null,
      "outputs": []
    },
    {
      "cell_type": "markdown",
      "source": [
        "8. Create a table to display a conference schedule."
      ],
      "metadata": {
        "id": "7UGhVtEJS2Q0"
      }
    },
    {
      "cell_type": "code",
      "source": [
        "<!DOCTYPE html>\n",
        "<html lang=\"en\">\n",
        "<head>\n",
        "  <meta charset=\"UTF-8\">\n",
        "\n",
        "\n",
        "</head>\n",
        "<body>\n",
        "\n",
        "  <div style=\"border: 1px solid ; width: 550px;\"><h1>Conference Schedule</h1>\n",
        "\n",
        "  <table border=\"1\">\n",
        "    <tr>\n",
        "      <th>Time</th>\n",
        "      <th>Room 1</th>\n",
        "      <th>Room 2</th>\n",
        "      <th>Room 3</th>\n",
        "      <th>Room 4</th>\n",
        "    </tr>\n",
        "    <tr>\n",
        "      <td rowspan=\"3\">9:00 AM - 10:00 AM</td>\n",
        "      <td rowspan=\"2\">Keynote</td>\n",
        "      <td>Session A</td>\n",
        "      <td>Session B</td>\n",
        "      <td rowspan=\"3\">Session C</td>\n",
        "    </tr>\n",
        "    <tr>\n",
        "      <td>Session D</td>\n",
        "      <td>Session E</td>\n",
        "    </tr>\n",
        "    <tr>\n",
        "      <td>10:30 AM - 11:30 AM</td>\n",
        "      <td colspan=\"2\">Session F</td>\n",
        "    </tr>\n",
        "    <tr>\n",
        "      <td>12:00 PM - 1:00 PM</td>\n",
        "      <td colspan=\"4\">Lunch Break</td>\n",
        "    </tr>\n",
        "    <tr>\n",
        "      <td rowspan=\"2\">1:00 PM - 2:00 PM</td>\n",
        "      <td>Session G</td>\n",
        "      <td rowspan=\"2\">Session H</td>\n",
        "      <td>Session I</td>\n",
        "      <td>Session J</td>\n",
        "    </tr>\n",
        "    <tr>\n",
        "      <td>Session K</td>\n",
        "      <td>Session L</td>\n",
        "      <td colspan=\"2\">Session M</td>\n",
        "    </tr>\n",
        "  </table>\n",
        "  </div>\n",
        "\n",
        "</body>\n",
        "</html>"
      ],
      "metadata": {
        "id": "zo4shtpuTCWf"
      },
      "execution_count": null,
      "outputs": []
    }
  ]
}